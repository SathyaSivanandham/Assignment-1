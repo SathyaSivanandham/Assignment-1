{
 "cells": [
  {
   "cell_type": "markdown",
   "id": "ba80be3a",
   "metadata": {},
   "source": [
    "# Write a Python program to get the Fibonacci series between 0 to 50"
   ]
  },
  {
   "cell_type": "code",
   "execution_count": 4,
   "id": "9ace11eb",
   "metadata": {},
   "outputs": [
    {
     "name": "stdout",
     "output_type": "stream",
     "text": [
      "These are the fibonacci series no between 0 to 50: \n",
      "0 1 1 2 3 5 8 13 21 "
     ]
    }
   ],
   "source": [
    "First_val=0\n",
    "Second_val=1\n",
    "print(\"These are the fibonacci series no between 0 to 50: \")\n",
    "while Second_val<50:\n",
    "    print(First_val , end=\" \")\n",
    "    Sum=First_val+Second_val\n",
    "    First_val=Second_val\n",
    "    Second_val=Sum"
   ]
  },
  {
   "cell_type": "code",
   "execution_count": null,
   "id": "69ed559f",
   "metadata": {},
   "outputs": [],
   "source": []
  }
 ],
 "metadata": {
  "kernelspec": {
   "display_name": "Python 3 (ipykernel)",
   "language": "python",
   "name": "python3"
  },
  "language_info": {
   "codemirror_mode": {
    "name": "ipython",
    "version": 3
   },
   "file_extension": ".py",
   "mimetype": "text/x-python",
   "name": "python",
   "nbconvert_exporter": "python",
   "pygments_lexer": "ipython3",
   "version": "3.11.0"
  }
 },
 "nbformat": 4,
 "nbformat_minor": 5
}
