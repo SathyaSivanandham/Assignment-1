{
 "cells": [
  {
   "cell_type": "markdown",
   "id": "f9066508",
   "metadata": {},
   "source": [
    "# Write a Python program to count the number of even and odd numbers from a series of numbers."
   ]
  },
  {
   "cell_type": "code",
   "execution_count": 1,
   "id": "c4d56a2e",
   "metadata": {},
   "outputs": [
    {
     "name": "stdout",
     "output_type": "stream",
     "text": [
      "Number of even numbers : 4\n",
      "Number of odd numbers : 5\n"
     ]
    }
   ],
   "source": [
    "Count_odd=0\n",
    "Count_even=0\n",
    "for i in range(1,10):\n",
    "    if not i%2:\n",
    "        Count_even=Count_even+1\n",
    "    else:\n",
    "        Count_odd=Count_odd+1\n",
    "print(\"Number of even numbers :\" , Count_even)\n",
    "print(\"Number of odd numbers :\" , Count_odd)"
   ]
  },
  {
   "cell_type": "code",
   "execution_count": null,
   "id": "75fc1410",
   "metadata": {},
   "outputs": [],
   "source": []
  }
 ],
 "metadata": {
  "kernelspec": {
   "display_name": "Python 3 (ipykernel)",
   "language": "python",
   "name": "python3"
  },
  "language_info": {
   "codemirror_mode": {
    "name": "ipython",
    "version": 3
   },
   "file_extension": ".py",
   "mimetype": "text/x-python",
   "name": "python",
   "nbconvert_exporter": "python",
   "pygments_lexer": "ipython3",
   "version": "3.11.0"
  }
 },
 "nbformat": 4,
 "nbformat_minor": 5
}
