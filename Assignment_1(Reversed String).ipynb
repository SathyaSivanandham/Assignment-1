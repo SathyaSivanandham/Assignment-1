{
 "cells": [
  {
   "cell_type": "markdown",
   "id": "678714e2",
   "metadata": {},
   "source": [
    "# Write a Python program that accepts a word from the user and reverse it."
   ]
  },
  {
   "cell_type": "code",
   "execution_count": 20,
   "id": "3dcaaafe",
   "metadata": {},
   "outputs": [
    {
     "name": "stdout",
     "output_type": "stream",
     "text": [
      "Enter the Sting :Edyoda\n",
      "The original string is : Edyoda\n",
      "The reversed string is : adoydE\n"
     ]
    }
   ],
   "source": [
    "my_str = input(\"Enter the Sting :\")\n",
    "str = \"\"\n",
    "for i in my_str:\n",
    "        str = i + str\n",
    "print(\"The original string is : \", end=\"\")\n",
    "print(my_str)\n",
    "  \n",
    "print(\"The reversed string is : \", end=\"\")\n",
    "print(reverse(my_str))"
   ]
  },
  {
   "cell_type": "code",
   "execution_count": null,
   "id": "34479455",
   "metadata": {},
   "outputs": [],
   "source": []
  }
 ],
 "metadata": {
  "kernelspec": {
   "display_name": "Python 3 (ipykernel)",
   "language": "python",
   "name": "python3"
  },
  "language_info": {
   "codemirror_mode": {
    "name": "ipython",
    "version": 3
   },
   "file_extension": ".py",
   "mimetype": "text/x-python",
   "name": "python",
   "nbconvert_exporter": "python",
   "pygments_lexer": "ipython3",
   "version": "3.11.0"
  }
 },
 "nbformat": 4,
 "nbformat_minor": 5
}
